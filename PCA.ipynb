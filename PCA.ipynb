{
  "nbformat": 4,
  "nbformat_minor": 0,
  "metadata": {
    "colab": {
      "provenance": [],
      "include_colab_link": true
    },
    "kernelspec": {
      "name": "python3",
      "display_name": "Python 3"
    },
    "language_info": {
      "name": "python"
    }
  },
  "cells": [
    {
      "cell_type": "markdown",
      "metadata": {
        "id": "view-in-github",
        "colab_type": "text"
      },
      "source": [
        "<a href=\"https://colab.research.google.com/github/thangpro1242002/-.-n-R-/blob/main/PCA.ipynb\" target=\"_parent\"><img src=\"https://colab.research.google.com/assets/colab-badge.svg\" alt=\"Open In Colab\"/></a>"
      ]
    },
    {
      "cell_type": "code",
      "execution_count": null,
      "metadata": {
        "id": "XKXMRnLspVTt"
      },
      "outputs": [],
      "source": [
        "import pandas as pd\n",
        "from matplotlib import pyplot as plt\n",
        "from sklearn.decomposition import PCA\n",
        "from sklearn.preprocessing import StandardScaler\n",
        "import numpy as np\n",
        "import seaborn as sns\n",
        "%matplotlib inline\n",
        "\n",
        "sep = \"\\t\""
      ]
    },
    {
      "cell_type": "code",
      "source": [
        "df = pd.read_csv(\"turtles.csv\", sep=sep)\n",
        "print(df)"
      ],
      "metadata": {
        "colab": {
          "base_uri": "https://localhost:8080/"
        },
        "id": "cTX--Ewtp3v_",
        "outputId": "b8bff9f1-9260-44c0-bd93-e71c255247fe"
      },
      "execution_count": null,
      "outputs": [
        {
          "output_type": "stream",
          "name": "stdout",
          "text": [
            "     ID Sex  length  width  height\n",
            "0   T25   F      98     81      38\n",
            "1   T26   F     103     84      38\n",
            "2   T27   F     103     86      42\n",
            "3   T28   F     105     86      40\n",
            "4   T29   F     109     88      44\n",
            "5   T30   F     123     92      50\n",
            "6   T31   F     123     95      46\n",
            "7   T32   F     133     99      51\n",
            "8   T33   F     133    102      51\n",
            "9   T34   F     133    102      51\n",
            "10  T35   F     134    100      48\n",
            "11  T36   F     136    102      49\n",
            "12  T37   F     137     98      51\n",
            "13  T38   F     138     99      51\n",
            "14  T39   F     141    105      53\n",
            "15  T40   F     147    108      57\n",
            "16  T41   F     149    107      55\n",
            "17  T42   F     153    107      56\n",
            "18  T43   F     155    115      63\n",
            "19  T44   F     155    117      60\n",
            "20  T45   F     158    115      62\n",
            "21  T46   F     159    118      63\n",
            "22  T47   F     162    124      61\n",
            "23  T48   F     177    132      67\n",
            "24   T1   M      93     74      37\n",
            "25   T2   M      94     78      35\n",
            "26   T3   M      96     80      35\n",
            "27   T4   M     101     84      39\n",
            "28   T5   M     102     85      38\n",
            "29   T6   M     103     81      37\n",
            "30   T7   M     104     83      39\n",
            "31   T8   M     106     83      39\n",
            "32   T9   M     107     82      38\n",
            "33  T10   M     112     89      40\n",
            "34  T11   M     113     88      40\n",
            "35  T12   M     114     86      40\n",
            "36  T13   M     116     90      43\n",
            "37  T14   M     117     90      41\n",
            "38  T15   M     117     91      41\n",
            "39  T16   M     119     93      41\n",
            "40  T17   M     120     89      40\n",
            "41  T18   M     120     93      44\n",
            "42  T19   M     121     95      42\n",
            "43  T20   M     125     93      45\n",
            "44  T21   M     127     96      45\n",
            "45  T22   M     128     95      45\n",
            "46  T23   M     131     95      46\n",
            "47  T24   M     135    106      47\n"
          ]
        }
      ]
    },
    {
      "cell_type": "code",
      "source": [
        "# chúng ta chọn các cột mong muốn theo tên tiêu đề với DataFrame.loc, sau đó lấy lại các giá trị dưới dạng numpy ndarray với DataFrame.values\n",
        "features = [\"length\", \"width\", \"height\"]\n",
        "x = df.loc[:, features].values\n",
        "\n",
        "x = StandardScaler().fit_transform(x)\n",
        "dfx = pd.DataFrame(x, columns=features) # quay lại dataframe"
      ],
      "metadata": {
        "id": "obvkPUcvqB7-"
      },
      "execution_count": null,
      "outputs": []
    },
    {
      "cell_type": "code",
      "source": [
        "features = [\"length\", \"width\", \"height\"]\n",
        "x = df.loc[:, features].values  # chúng tôi không chọn \"Sex\".\n",
        "\n",
        "import warnings\n",
        "with warnings.catch_warnings():\n",
        "    warnings.simplefilter(\"ignore\")\n",
        "    x = StandardScaler().fit_transform(x)\n",
        "    dfx = pd.DataFrame(x, columns=features)"
      ],
      "metadata": {
        "id": "1KNFtSHQqVz3"
      },
      "execution_count": null,
      "outputs": []
    },
    {
      "cell_type": "code",
      "source": [
        "dfx.head(20)"
      ],
      "metadata": {
        "colab": {
          "base_uri": "https://localhost:8080/",
          "height": 677
        },
        "id": "aetyp9iwq0O3",
        "outputId": "a53676df-10f1-4d96-a6f2-3abb9d272860"
      },
      "execution_count": null,
      "outputs": [
        {
          "output_type": "execute_result",
          "data": {
            "text/plain": [
              "      length     width    height\n",
              "0  -1.316787 -1.151031 -1.003417\n",
              "1  -1.070083 -0.911856 -1.003417\n",
              "2  -1.070083 -0.752406 -0.521777\n",
              "3  -0.971401 -0.752406 -0.762597\n",
              "4  -0.774037 -0.592955 -0.280957\n",
              "5  -0.083263 -0.274055  0.441504\n",
              "6  -0.083263 -0.034880 -0.040137\n",
              "7   0.410147  0.284021  0.561914\n",
              "8   0.410147  0.523196  0.561914\n",
              "9   0.410147  0.523196  0.561914\n",
              "10  0.459488  0.363746  0.200683\n",
              "11  0.558170  0.523196  0.321094\n",
              "12  0.607511  0.204296  0.561914\n",
              "13  0.656852  0.284021  0.561914\n",
              "14  0.804875  0.762371  0.802734\n",
              "15  1.100921  1.001546  1.284374\n",
              "16  1.199603  0.921821  1.043554\n",
              "17  1.396966  0.921821  1.163964\n",
              "18  1.495648  1.559622  2.006835\n",
              "19  1.495648  1.719072  1.645605"
            ],
            "text/html": [
              "\n",
              "  <div id=\"df-6bd76157-ded8-4ea0-bdd2-02c1095de9ae\">\n",
              "    <div class=\"colab-df-container\">\n",
              "      <div>\n",
              "<style scoped>\n",
              "    .dataframe tbody tr th:only-of-type {\n",
              "        vertical-align: middle;\n",
              "    }\n",
              "\n",
              "    .dataframe tbody tr th {\n",
              "        vertical-align: top;\n",
              "    }\n",
              "\n",
              "    .dataframe thead th {\n",
              "        text-align: right;\n",
              "    }\n",
              "</style>\n",
              "<table border=\"1\" class=\"dataframe\">\n",
              "  <thead>\n",
              "    <tr style=\"text-align: right;\">\n",
              "      <th></th>\n",
              "      <th>length</th>\n",
              "      <th>width</th>\n",
              "      <th>height</th>\n",
              "    </tr>\n",
              "  </thead>\n",
              "  <tbody>\n",
              "    <tr>\n",
              "      <th>0</th>\n",
              "      <td>-1.316787</td>\n",
              "      <td>-1.151031</td>\n",
              "      <td>-1.003417</td>\n",
              "    </tr>\n",
              "    <tr>\n",
              "      <th>1</th>\n",
              "      <td>-1.070083</td>\n",
              "      <td>-0.911856</td>\n",
              "      <td>-1.003417</td>\n",
              "    </tr>\n",
              "    <tr>\n",
              "      <th>2</th>\n",
              "      <td>-1.070083</td>\n",
              "      <td>-0.752406</td>\n",
              "      <td>-0.521777</td>\n",
              "    </tr>\n",
              "    <tr>\n",
              "      <th>3</th>\n",
              "      <td>-0.971401</td>\n",
              "      <td>-0.752406</td>\n",
              "      <td>-0.762597</td>\n",
              "    </tr>\n",
              "    <tr>\n",
              "      <th>4</th>\n",
              "      <td>-0.774037</td>\n",
              "      <td>-0.592955</td>\n",
              "      <td>-0.280957</td>\n",
              "    </tr>\n",
              "    <tr>\n",
              "      <th>5</th>\n",
              "      <td>-0.083263</td>\n",
              "      <td>-0.274055</td>\n",
              "      <td>0.441504</td>\n",
              "    </tr>\n",
              "    <tr>\n",
              "      <th>6</th>\n",
              "      <td>-0.083263</td>\n",
              "      <td>-0.034880</td>\n",
              "      <td>-0.040137</td>\n",
              "    </tr>\n",
              "    <tr>\n",
              "      <th>7</th>\n",
              "      <td>0.410147</td>\n",
              "      <td>0.284021</td>\n",
              "      <td>0.561914</td>\n",
              "    </tr>\n",
              "    <tr>\n",
              "      <th>8</th>\n",
              "      <td>0.410147</td>\n",
              "      <td>0.523196</td>\n",
              "      <td>0.561914</td>\n",
              "    </tr>\n",
              "    <tr>\n",
              "      <th>9</th>\n",
              "      <td>0.410147</td>\n",
              "      <td>0.523196</td>\n",
              "      <td>0.561914</td>\n",
              "    </tr>\n",
              "    <tr>\n",
              "      <th>10</th>\n",
              "      <td>0.459488</td>\n",
              "      <td>0.363746</td>\n",
              "      <td>0.200683</td>\n",
              "    </tr>\n",
              "    <tr>\n",
              "      <th>11</th>\n",
              "      <td>0.558170</td>\n",
              "      <td>0.523196</td>\n",
              "      <td>0.321094</td>\n",
              "    </tr>\n",
              "    <tr>\n",
              "      <th>12</th>\n",
              "      <td>0.607511</td>\n",
              "      <td>0.204296</td>\n",
              "      <td>0.561914</td>\n",
              "    </tr>\n",
              "    <tr>\n",
              "      <th>13</th>\n",
              "      <td>0.656852</td>\n",
              "      <td>0.284021</td>\n",
              "      <td>0.561914</td>\n",
              "    </tr>\n",
              "    <tr>\n",
              "      <th>14</th>\n",
              "      <td>0.804875</td>\n",
              "      <td>0.762371</td>\n",
              "      <td>0.802734</td>\n",
              "    </tr>\n",
              "    <tr>\n",
              "      <th>15</th>\n",
              "      <td>1.100921</td>\n",
              "      <td>1.001546</td>\n",
              "      <td>1.284374</td>\n",
              "    </tr>\n",
              "    <tr>\n",
              "      <th>16</th>\n",
              "      <td>1.199603</td>\n",
              "      <td>0.921821</td>\n",
              "      <td>1.043554</td>\n",
              "    </tr>\n",
              "    <tr>\n",
              "      <th>17</th>\n",
              "      <td>1.396966</td>\n",
              "      <td>0.921821</td>\n",
              "      <td>1.163964</td>\n",
              "    </tr>\n",
              "    <tr>\n",
              "      <th>18</th>\n",
              "      <td>1.495648</td>\n",
              "      <td>1.559622</td>\n",
              "      <td>2.006835</td>\n",
              "    </tr>\n",
              "    <tr>\n",
              "      <th>19</th>\n",
              "      <td>1.495648</td>\n",
              "      <td>1.719072</td>\n",
              "      <td>1.645605</td>\n",
              "    </tr>\n",
              "  </tbody>\n",
              "</table>\n",
              "</div>\n",
              "      <button class=\"colab-df-convert\" onclick=\"convertToInteractive('df-6bd76157-ded8-4ea0-bdd2-02c1095de9ae')\"\n",
              "              title=\"Convert this dataframe to an interactive table.\"\n",
              "              style=\"display:none;\">\n",
              "        \n",
              "  <svg xmlns=\"http://www.w3.org/2000/svg\" height=\"24px\"viewBox=\"0 0 24 24\"\n",
              "       width=\"24px\">\n",
              "    <path d=\"M0 0h24v24H0V0z\" fill=\"none\"/>\n",
              "    <path d=\"M18.56 5.44l.94 2.06.94-2.06 2.06-.94-2.06-.94-.94-2.06-.94 2.06-2.06.94zm-11 1L8.5 8.5l.94-2.06 2.06-.94-2.06-.94L8.5 2.5l-.94 2.06-2.06.94zm10 10l.94 2.06.94-2.06 2.06-.94-2.06-.94-.94-2.06-.94 2.06-2.06.94z\"/><path d=\"M17.41 7.96l-1.37-1.37c-.4-.4-.92-.59-1.43-.59-.52 0-1.04.2-1.43.59L10.3 9.45l-7.72 7.72c-.78.78-.78 2.05 0 2.83L4 21.41c.39.39.9.59 1.41.59.51 0 1.02-.2 1.41-.59l7.78-7.78 2.81-2.81c.8-.78.8-2.07 0-2.86zM5.41 20L4 18.59l7.72-7.72 1.47 1.35L5.41 20z\"/>\n",
              "  </svg>\n",
              "      </button>\n",
              "      \n",
              "  <style>\n",
              "    .colab-df-container {\n",
              "      display:flex;\n",
              "      flex-wrap:wrap;\n",
              "      gap: 12px;\n",
              "    }\n",
              "\n",
              "    .colab-df-convert {\n",
              "      background-color: #E8F0FE;\n",
              "      border: none;\n",
              "      border-radius: 50%;\n",
              "      cursor: pointer;\n",
              "      display: none;\n",
              "      fill: #1967D2;\n",
              "      height: 32px;\n",
              "      padding: 0 0 0 0;\n",
              "      width: 32px;\n",
              "    }\n",
              "\n",
              "    .colab-df-convert:hover {\n",
              "      background-color: #E2EBFA;\n",
              "      box-shadow: 0px 1px 2px rgba(60, 64, 67, 0.3), 0px 1px 3px 1px rgba(60, 64, 67, 0.15);\n",
              "      fill: #174EA6;\n",
              "    }\n",
              "\n",
              "    [theme=dark] .colab-df-convert {\n",
              "      background-color: #3B4455;\n",
              "      fill: #D2E3FC;\n",
              "    }\n",
              "\n",
              "    [theme=dark] .colab-df-convert:hover {\n",
              "      background-color: #434B5C;\n",
              "      box-shadow: 0px 1px 3px 1px rgba(0, 0, 0, 0.15);\n",
              "      filter: drop-shadow(0px 1px 2px rgba(0, 0, 0, 0.3));\n",
              "      fill: #FFFFFF;\n",
              "    }\n",
              "  </style>\n",
              "\n",
              "      <script>\n",
              "        const buttonEl =\n",
              "          document.querySelector('#df-6bd76157-ded8-4ea0-bdd2-02c1095de9ae button.colab-df-convert');\n",
              "        buttonEl.style.display =\n",
              "          google.colab.kernel.accessAllowed ? 'block' : 'none';\n",
              "\n",
              "        async function convertToInteractive(key) {\n",
              "          const element = document.querySelector('#df-6bd76157-ded8-4ea0-bdd2-02c1095de9ae');\n",
              "          const dataTable =\n",
              "            await google.colab.kernel.invokeFunction('convertToInteractive',\n",
              "                                                     [key], {});\n",
              "          if (!dataTable) return;\n",
              "\n",
              "          const docLinkHtml = 'Like what you see? Visit the ' +\n",
              "            '<a target=\"_blank\" href=https://colab.research.google.com/notebooks/data_table.ipynb>data table notebook</a>'\n",
              "            + ' to learn more about interactive tables.';\n",
              "          element.innerHTML = '';\n",
              "          dataTable['output_type'] = 'display_data';\n",
              "          await google.colab.output.renderOutput(dataTable, element);\n",
              "          const docLink = document.createElement('div');\n",
              "          docLink.innerHTML = docLinkHtml;\n",
              "          element.appendChild(docLink);\n",
              "        }\n",
              "      </script>\n",
              "    </div>\n",
              "  </div>\n",
              "  "
            ]
          },
          "metadata": {},
          "execution_count": 11
        }
      ]
    },
    {
      "cell_type": "code",
      "source": [
        "for feature in features:\n",
        "    print(f\"{feature} average: {np.average(dfx[feature])} std: {np.std(dfx[feature])}\")"
      ],
      "metadata": {
        "colab": {
          "base_uri": "https://localhost:8080/"
        },
        "id": "mFYn5D9SrEsO",
        "outputId": "7c77ef19-a837-408c-e095-ceae75bc9601"
      },
      "execution_count": null,
      "outputs": [
        {
          "output_type": "stream",
          "name": "stdout",
          "text": [
            "length average: -1.850371707708594e-17 std: 1.0\n",
            "width average: 0.0 std: 1.0\n",
            "height average: -2.7755575615628914e-16 std: 1.0\n"
          ]
        }
      ]
    },
    {
      "cell_type": "code",
      "source": [
        "# === thực hiện phân tích trên dữ liệu được thu nhỏ ===\n",
        "\n",
        "n_components = 2\n",
        "whiten = True\n",
        "\n",
        "# khởi tạo pca\n",
        "pca = PCA(n_components=n_components, whiten=whiten)\n",
        "\n",
        "PC = pca.fit_transform(x)\n",
        "\n",
        "dfPC = pd.DataFrame(PC, columns=[\"PC1\", \"PC2\"])\n",
        "dfPC[\"Sex\"] = df[\"Sex\"] # lấy thông tin giới tính\n",
        "\n",
        "dfPC.head(20)"
      ],
      "metadata": {
        "colab": {
          "base_uri": "https://localhost:8080/",
          "height": 677
        },
        "id": "1houepParKBe",
        "outputId": "c82f8b54-2a4e-4ca9-87b9-13efa309e7b0"
      },
      "execution_count": null,
      "outputs": [
        {
          "output_type": "execute_result",
          "data": {
            "text/plain": [
              "         PC1       PC2 Sex\n",
              "0  -1.157738  0.807548   F\n",
              "1  -0.995436 -0.128592   F\n",
              "2  -0.782197  1.374335   F\n",
              "3  -0.829218  0.285269   F\n",
              "4  -0.550007  1.481525   F\n",
              "5   0.027368  2.478302   F\n",
              "6  -0.052810  0.054038   F\n",
              "7   0.418589  0.889620   F\n",
              "8   0.498425  0.336818   F\n",
              "9   0.498425  0.336818   F\n",
              "10  0.341684 -0.774911   F\n",
              "11  0.467898 -0.828916   F\n",
              "12  0.457949  0.767217   F\n",
              "13  0.501055  0.506282   F\n",
              "14  0.790215  0.106406   F\n",
              "15  1.129025  0.965059   F\n",
              "16  1.055392  0.060261   F\n",
              "17  1.161368  0.221456   F\n",
              "18  1.687277  1.869039   F\n",
              "19  1.620491  0.096908   F"
            ],
            "text/html": [
              "\n",
              "  <div id=\"df-abf8d5f3-e4f3-4af1-b4bb-0c28aaf89e24\">\n",
              "    <div class=\"colab-df-container\">\n",
              "      <div>\n",
              "<style scoped>\n",
              "    .dataframe tbody tr th:only-of-type {\n",
              "        vertical-align: middle;\n",
              "    }\n",
              "\n",
              "    .dataframe tbody tr th {\n",
              "        vertical-align: top;\n",
              "    }\n",
              "\n",
              "    .dataframe thead th {\n",
              "        text-align: right;\n",
              "    }\n",
              "</style>\n",
              "<table border=\"1\" class=\"dataframe\">\n",
              "  <thead>\n",
              "    <tr style=\"text-align: right;\">\n",
              "      <th></th>\n",
              "      <th>PC1</th>\n",
              "      <th>PC2</th>\n",
              "      <th>Sex</th>\n",
              "    </tr>\n",
              "  </thead>\n",
              "  <tbody>\n",
              "    <tr>\n",
              "      <th>0</th>\n",
              "      <td>-1.157738</td>\n",
              "      <td>0.807548</td>\n",
              "      <td>F</td>\n",
              "    </tr>\n",
              "    <tr>\n",
              "      <th>1</th>\n",
              "      <td>-0.995436</td>\n",
              "      <td>-0.128592</td>\n",
              "      <td>F</td>\n",
              "    </tr>\n",
              "    <tr>\n",
              "      <th>2</th>\n",
              "      <td>-0.782197</td>\n",
              "      <td>1.374335</td>\n",
              "      <td>F</td>\n",
              "    </tr>\n",
              "    <tr>\n",
              "      <th>3</th>\n",
              "      <td>-0.829218</td>\n",
              "      <td>0.285269</td>\n",
              "      <td>F</td>\n",
              "    </tr>\n",
              "    <tr>\n",
              "      <th>4</th>\n",
              "      <td>-0.550007</td>\n",
              "      <td>1.481525</td>\n",
              "      <td>F</td>\n",
              "    </tr>\n",
              "    <tr>\n",
              "      <th>5</th>\n",
              "      <td>0.027368</td>\n",
              "      <td>2.478302</td>\n",
              "      <td>F</td>\n",
              "    </tr>\n",
              "    <tr>\n",
              "      <th>6</th>\n",
              "      <td>-0.052810</td>\n",
              "      <td>0.054038</td>\n",
              "      <td>F</td>\n",
              "    </tr>\n",
              "    <tr>\n",
              "      <th>7</th>\n",
              "      <td>0.418589</td>\n",
              "      <td>0.889620</td>\n",
              "      <td>F</td>\n",
              "    </tr>\n",
              "    <tr>\n",
              "      <th>8</th>\n",
              "      <td>0.498425</td>\n",
              "      <td>0.336818</td>\n",
              "      <td>F</td>\n",
              "    </tr>\n",
              "    <tr>\n",
              "      <th>9</th>\n",
              "      <td>0.498425</td>\n",
              "      <td>0.336818</td>\n",
              "      <td>F</td>\n",
              "    </tr>\n",
              "    <tr>\n",
              "      <th>10</th>\n",
              "      <td>0.341684</td>\n",
              "      <td>-0.774911</td>\n",
              "      <td>F</td>\n",
              "    </tr>\n",
              "    <tr>\n",
              "      <th>11</th>\n",
              "      <td>0.467898</td>\n",
              "      <td>-0.828916</td>\n",
              "      <td>F</td>\n",
              "    </tr>\n",
              "    <tr>\n",
              "      <th>12</th>\n",
              "      <td>0.457949</td>\n",
              "      <td>0.767217</td>\n",
              "      <td>F</td>\n",
              "    </tr>\n",
              "    <tr>\n",
              "      <th>13</th>\n",
              "      <td>0.501055</td>\n",
              "      <td>0.506282</td>\n",
              "      <td>F</td>\n",
              "    </tr>\n",
              "    <tr>\n",
              "      <th>14</th>\n",
              "      <td>0.790215</td>\n",
              "      <td>0.106406</td>\n",
              "      <td>F</td>\n",
              "    </tr>\n",
              "    <tr>\n",
              "      <th>15</th>\n",
              "      <td>1.129025</td>\n",
              "      <td>0.965059</td>\n",
              "      <td>F</td>\n",
              "    </tr>\n",
              "    <tr>\n",
              "      <th>16</th>\n",
              "      <td>1.055392</td>\n",
              "      <td>0.060261</td>\n",
              "      <td>F</td>\n",
              "    </tr>\n",
              "    <tr>\n",
              "      <th>17</th>\n",
              "      <td>1.161368</td>\n",
              "      <td>0.221456</td>\n",
              "      <td>F</td>\n",
              "    </tr>\n",
              "    <tr>\n",
              "      <th>18</th>\n",
              "      <td>1.687277</td>\n",
              "      <td>1.869039</td>\n",
              "      <td>F</td>\n",
              "    </tr>\n",
              "    <tr>\n",
              "      <th>19</th>\n",
              "      <td>1.620491</td>\n",
              "      <td>0.096908</td>\n",
              "      <td>F</td>\n",
              "    </tr>\n",
              "  </tbody>\n",
              "</table>\n",
              "</div>\n",
              "      <button class=\"colab-df-convert\" onclick=\"convertToInteractive('df-abf8d5f3-e4f3-4af1-b4bb-0c28aaf89e24')\"\n",
              "              title=\"Convert this dataframe to an interactive table.\"\n",
              "              style=\"display:none;\">\n",
              "        \n",
              "  <svg xmlns=\"http://www.w3.org/2000/svg\" height=\"24px\"viewBox=\"0 0 24 24\"\n",
              "       width=\"24px\">\n",
              "    <path d=\"M0 0h24v24H0V0z\" fill=\"none\"/>\n",
              "    <path d=\"M18.56 5.44l.94 2.06.94-2.06 2.06-.94-2.06-.94-.94-2.06-.94 2.06-2.06.94zm-11 1L8.5 8.5l.94-2.06 2.06-.94-2.06-.94L8.5 2.5l-.94 2.06-2.06.94zm10 10l.94 2.06.94-2.06 2.06-.94-2.06-.94-.94-2.06-.94 2.06-2.06.94z\"/><path d=\"M17.41 7.96l-1.37-1.37c-.4-.4-.92-.59-1.43-.59-.52 0-1.04.2-1.43.59L10.3 9.45l-7.72 7.72c-.78.78-.78 2.05 0 2.83L4 21.41c.39.39.9.59 1.41.59.51 0 1.02-.2 1.41-.59l7.78-7.78 2.81-2.81c.8-.78.8-2.07 0-2.86zM5.41 20L4 18.59l7.72-7.72 1.47 1.35L5.41 20z\"/>\n",
              "  </svg>\n",
              "      </button>\n",
              "      \n",
              "  <style>\n",
              "    .colab-df-container {\n",
              "      display:flex;\n",
              "      flex-wrap:wrap;\n",
              "      gap: 12px;\n",
              "    }\n",
              "\n",
              "    .colab-df-convert {\n",
              "      background-color: #E8F0FE;\n",
              "      border: none;\n",
              "      border-radius: 50%;\n",
              "      cursor: pointer;\n",
              "      display: none;\n",
              "      fill: #1967D2;\n",
              "      height: 32px;\n",
              "      padding: 0 0 0 0;\n",
              "      width: 32px;\n",
              "    }\n",
              "\n",
              "    .colab-df-convert:hover {\n",
              "      background-color: #E2EBFA;\n",
              "      box-shadow: 0px 1px 2px rgba(60, 64, 67, 0.3), 0px 1px 3px 1px rgba(60, 64, 67, 0.15);\n",
              "      fill: #174EA6;\n",
              "    }\n",
              "\n",
              "    [theme=dark] .colab-df-convert {\n",
              "      background-color: #3B4455;\n",
              "      fill: #D2E3FC;\n",
              "    }\n",
              "\n",
              "    [theme=dark] .colab-df-convert:hover {\n",
              "      background-color: #434B5C;\n",
              "      box-shadow: 0px 1px 3px 1px rgba(0, 0, 0, 0.15);\n",
              "      filter: drop-shadow(0px 1px 2px rgba(0, 0, 0, 0.3));\n",
              "      fill: #FFFFFF;\n",
              "    }\n",
              "  </style>\n",
              "\n",
              "      <script>\n",
              "        const buttonEl =\n",
              "          document.querySelector('#df-abf8d5f3-e4f3-4af1-b4bb-0c28aaf89e24 button.colab-df-convert');\n",
              "        buttonEl.style.display =\n",
              "          google.colab.kernel.accessAllowed ? 'block' : 'none';\n",
              "\n",
              "        async function convertToInteractive(key) {\n",
              "          const element = document.querySelector('#df-abf8d5f3-e4f3-4af1-b4bb-0c28aaf89e24');\n",
              "          const dataTable =\n",
              "            await google.colab.kernel.invokeFunction('convertToInteractive',\n",
              "                                                     [key], {});\n",
              "          if (!dataTable) return;\n",
              "\n",
              "          const docLinkHtml = 'Like what you see? Visit the ' +\n",
              "            '<a target=\"_blank\" href=https://colab.research.google.com/notebooks/data_table.ipynb>data table notebook</a>'\n",
              "            + ' to learn more about interactive tables.';\n",
              "          element.innerHTML = '';\n",
              "          dataTable['output_type'] = 'display_data';\n",
              "          await google.colab.output.renderOutput(dataTable, element);\n",
              "          const docLink = document.createElement('div');\n",
              "          docLink.innerHTML = docLinkHtml;\n",
              "          element.appendChild(docLink);\n",
              "        }\n",
              "      </script>\n",
              "    </div>\n",
              "  </div>\n",
              "  "
            ]
          },
          "metadata": {},
          "execution_count": 15
        }
      ]
    },
    {
      "cell_type": "code",
      "source": [
        "fig = plt.figure()\n",
        "ax = sns.scatterplot(data=dfPC, x=\"PC1\", y=\"PC2\", hue=\"Sex\")\n",
        "ax.set_title(\"PC on scaled, whitened data\")"
      ],
      "metadata": {
        "colab": {
          "base_uri": "https://localhost:8080/",
          "height": 312
        },
        "id": "mS8Q5tE8rKHW",
        "outputId": "e7a3f603-08d9-4362-9c86-6011accb0fab"
      },
      "execution_count": null,
      "outputs": [
        {
          "output_type": "execute_result",
          "data": {
            "text/plain": [
              "Text(0.5, 1.0, 'PC on scaled, whitened data')"
            ]
          },
          "metadata": {},
          "execution_count": 16
        },
        {
          "output_type": "display_data",
          "data": {
            "text/plain": [
              "<Figure size 432x288 with 1 Axes>"
            ],
            "image/png": "[encoded data removed]"
          },
          "metadata": {
            "needs_background": "light"
          }
        }
      ]
    },
    {
      "cell_type": "code",
      "source": [
        "pca.explained_variance_ratio_"
      ],
      "metadata": {
        "colab": {
          "base_uri": "https://localhost:8080/"
        },
        "id": "bhMIt-mWr96P",
        "outputId": "035dc5ec-cbf3-4547-9577-ba9fab4fe89e"
      },
      "execution_count": null,
      "outputs": [
        {
          "output_type": "execute_result",
          "data": {
            "text/plain": [
              "array([0.97857922, 0.01428129])"
            ]
          },
          "metadata": {},
          "execution_count": 17
        }
      ]
    },
    {
      "cell_type": "code",
      "source": [
        "round(100 - sum(pca.explained_variance_ratio_)*100, 2)"
      ],
      "metadata": {
        "colab": {
          "base_uri": "https://localhost:8080/"
        },
        "id": "Gohe8MzFsFO3",
        "outputId": "0a3928c6-88d7-4f31-bc04-13cc1c75a2d8"
      },
      "execution_count": null,
      "outputs": [
        {
          "output_type": "execute_result",
          "data": {
            "text/plain": [
              "0.71"
            ]
          },
          "metadata": {},
          "execution_count": 18
        }
      ]
    },
    {
      "cell_type": "code",
      "source": [
        "pca.components_"
      ],
      "metadata": {
        "colab": {
          "base_uri": "https://localhost:8080/"
        },
        "id": "LDazNsBwsGB_",
        "outputId": "08dbc86f-b32f-4d33-82a1-f199326a2a52"
      },
      "execution_count": null,
      "outputs": [
        {
          "output_type": "execute_result",
          "data": {
            "text/plain": [
              "array([[ 0.57879812,  0.57798399,  0.57526276],\n",
              "       [-0.32502731, -0.48346989,  0.81278171]])"
            ]
          },
          "metadata": {},
          "execution_count": 19
        }
      ]
    },
    {
      "cell_type": "code",
      "source": [
        "for vector in pca.components_:\n",
        "    print(sum(vector ** 2))"
      ],
      "metadata": {
        "colab": {
          "base_uri": "https://localhost:8080/"
        },
        "id": "77_TmUyPsJG_",
        "outputId": "f04e732b-74c7-4dfc-f189-adcaffcc8da4"
      },
      "execution_count": null,
      "outputs": [
        {
          "output_type": "stream",
          "name": "stdout",
          "text": [
            "1.0\n",
            "1.0000000000000004\n"
          ]
        }
      ]
    },
    {
      "cell_type": "code",
      "source": [
        "pca_noscale_black = PCA(n_components=2, whiten=False)\n",
        "PC_noscale_black = pca_noscale_black.fit_transform(df.iloc[:, [2,3,4]])\n",
        "dfPC_noscale_black = pd.DataFrame(PC_noscale_black, columns=[\"PC1\", \"PC2\"])\n",
        "dfPC_noscale_black[\"Sex\"] = df[\"Sex\"]\n",
        "\n",
        "\n",
        "pca_scale_black = PCA(n_components=2, whiten=False)\n",
        "PC_scale_black = pca_scale_black.fit_transform(x)\n",
        "dfPC_scale_black = pd.DataFrame(PC_scale_black, columns=[\"PC1\", \"PC2\"])\n",
        "dfPC_scale_black[\"Sex\"] = df[\"Sex\"] \n",
        "\n",
        "\n",
        "pca_noscale_white = PCA(n_components=2, whiten=True)\n",
        "PC_noscale_white = pca_noscale_white.fit_transform(df.iloc[:, [2,3,4]])\n",
        "dfPC_noscale_white = pd.DataFrame(PC_noscale_white, columns=[\"PC1\", \"PC2\"])\n",
        "dfPC_noscale_white[\"Sex\"] = df[\"Sex\"]"
      ],
      "metadata": {
        "id": "BPN2bVj6sJng"
      },
      "execution_count": null,
      "outputs": []
    },
    {
      "cell_type": "code",
      "source": [
        "fig = plt.figure()\n",
        "fig.suptitle(\"Scaling and Whitening combinations\", fontsize=18, y=1.05)\n",
        "fig.subplots_adjust(hspace=0.8, wspace=0.5)\n",
        "\n",
        "ax = fig.add_subplot(2,2,1)\n",
        "ax = sns.scatterplot(data=dfPC_noscale_black, x=\"PC1\", y=\"PC2\", hue=\"Sex\")\n",
        "ax.legend().set_visible(False)\n",
        "ax.set_title(\"Not scaled, not whitened\")\n",
        "\n",
        "ax = fig.add_subplot(2,2,2)\n",
        "ax = sns.scatterplot(data=dfPC_scale_black, x=\"PC1\", y=\"PC2\", hue=\"Sex\")\n",
        "ax.legend().set_visible(False)\n",
        "ax.set_title(\"Scaled, not whitened\")\n",
        "\n",
        "ax = fig.add_subplot(2,2,3)\n",
        "ax = sns.scatterplot(data=dfPC_noscale_white, x=\"PC1\", y=\"PC2\", hue=\"Sex\")\n",
        "ax.legend().set_visible(False)\n",
        "ax.set_title(\"Not scaled, whitened\")\n",
        "\n",
        "ax = fig.add_subplot(2,2,4)\n",
        "ax = sns.scatterplot(data=dfPC, x=\"PC1\", y=\"PC2\", hue=\"Sex\")\n",
        "ax.legend().set_visible(False)\n",
        "ax.set_title(\"Scaled, whitened\")"
      ],
      "metadata": {
        "colab": {
          "base_uri": "https://localhost:8080/",
          "height": 345
        },
        "id": "3DKUp4qnsTqO",
        "outputId": "5dbc66e4-5cc9-4ea5-fe4d-1719a6bc2b63"
      },
      "execution_count": null,
      "outputs": [
        {
          "output_type": "execute_result",
          "data": {
            "text/plain": [
              "Text(0.5, 1.0, 'Scaled, whitened')"
            ]
          },
          "metadata": {},
          "execution_count": 23
        },
        {
          "output_type": "display_data",
          "data": {
            "text/plain": [
              "<Figure size 432x288 with 4 Axes>"
            ],
            "image/png": "[encoded data removed]"
          },
          "metadata": {
            "needs_background": "light"
          }
        }
      ]
    },
    {
      "cell_type": "code",
      "source": [
        "analyses = [dfPC_noscale_black, dfPC_scale_black, dfPC_noscale_white, dfPC]\n",
        "descriptions=[\n",
        "    \"not scaled, not whitened\",\n",
        "    \"scaled, not whitened    \",\n",
        "    \"not scaled, whitened    \",\n",
        "    \"scaled, whitened        \"\n",
        "]\n",
        "\n",
        "for data, descr in zip(analyses, descriptions):\n",
        "    ave_pc1 = np.average(data[\"PC1\"])\n",
        "    ave_pc2 = np.average(data[\"PC2\"])\n",
        "    sd_pc1  = np.std(data[\"PC1\"])\n",
        "    sd_pc2  = np.std(data[\"PC2\"])\n",
        "    print(f\"{descr} PC1: {abs(round(ave_pc1,1))} ± {round(sd_pc1,1)} {sep}PC2: {abs(round(ave_pc2,1))} ± {round(sd_pc2,1)}\")"
      ],
      "metadata": {
        "colab": {
          "base_uri": "https://localhost:8080/"
        },
        "id": "MZRzWsJGsYBn",
        "outputId": "2fb8ee84-529f-401b-ad13-47511c64d90a"
      },
      "execution_count": null,
      "outputs": [
        {
          "output_type": "stream",
          "name": "stdout",
          "text": [
            "not scaled, not whitened PC1: 0.0 ± 25.1 \tPC2: 0.0 ± 2.3\n",
            "scaled, not whitened     PC1: 0.0 ± 1.7 \tPC2: 0.0 ± 0.2\n",
            "not scaled, whitened     PC1: 0.0 ± 1.0 \tPC2: 0.0 ± 1.0\n",
            "scaled, whitened         PC1: 0.0 ± 1.0 \tPC2: 0.0 ± 1.0\n"
          ]
        }
      ]
    },
    {
      "cell_type": "code",
      "source": [
        "analyses_PC = [pca_noscale_black, pca_scale_black, pca_noscale_white, pca]\n",
        "for analysis, descr in zip(analyses_PC, descriptions):\n",
        "    print(f\"{descr}: {analysis.explained_variance_ratio_}\")"
      ],
      "metadata": {
        "colab": {
          "base_uri": "https://localhost:8080/"
        },
        "id": "_3Sp_UensZ7-",
        "outputId": "464fdcd7-d8a4-4d45-fe80-cbb3c138d9f5"
      },
      "execution_count": null,
      "outputs": [
        {
          "output_type": "stream",
          "name": "stdout",
          "text": [
            "not scaled, not whitened: [0.986113   0.00799921]\n",
            "scaled, not whitened    : [0.97857922 0.01428129]\n",
            "not scaled, whitened    : [0.986113   0.00799921]\n",
            "scaled, whitened        : [0.97857922 0.01428129]\n"
          ]
        }
      ]
    }
  ]
}